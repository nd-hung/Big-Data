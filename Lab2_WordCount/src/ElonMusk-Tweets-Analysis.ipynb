{
 "cells": [
  {
   "cell_type": "markdown",
   "id": "981189e5",
   "metadata": {},
   "source": [
    "## Xử lý dữ liệu mạng xã hội Twitter\n",
    "- Liệt kê 20 từ được nhắc nhiều nhất\n",
    "- Liệt kê 10 tài khoản được nhắc nhiều nhất\n",
    "- Tìm khoảng thời gian trong ngày (0-24 giờ) tác giả đăng bài nhiều nhất"
   ]
  },
  {
   "cell_type": "code",
   "execution_count": 1,
   "id": "93582c6b",
   "metadata": {},
   "outputs": [],
   "source": [
    "# Khai báo thư viện pandas\n",
    "import pandas as pd"
   ]
  },
  {
   "cell_type": "code",
   "execution_count": 2,
   "id": "aff29faf",
   "metadata": {},
   "outputs": [],
   "source": [
    "# Mở file .csv & nạp dữ liệu vào dataframe:\n",
    "df = pd.read_csv('Downloads/elonmusk_tweets.csv')"
   ]
  },
  {
   "cell_type": "code",
   "execution_count": 3,
   "id": "69d6199b",
   "metadata": {},
   "outputs": [
    {
     "data": {
      "text/html": [
       "<div>\n",
       "<style scoped>\n",
       "    .dataframe tbody tr th:only-of-type {\n",
       "        vertical-align: middle;\n",
       "    }\n",
       "\n",
       "    .dataframe tbody tr th {\n",
       "        vertical-align: top;\n",
       "    }\n",
       "\n",
       "    .dataframe thead th {\n",
       "        text-align: right;\n",
       "    }\n",
       "</style>\n",
       "<table border=\"1\" class=\"dataframe\">\n",
       "  <thead>\n",
       "    <tr style=\"text-align: right;\">\n",
       "      <th></th>\n",
       "      <th>id</th>\n",
       "      <th>created_at</th>\n",
       "      <th>text</th>\n",
       "    </tr>\n",
       "  </thead>\n",
       "  <tbody>\n",
       "    <tr>\n",
       "      <th>0</th>\n",
       "      <td>849636868052275200</td>\n",
       "      <td>2017-04-05 14:56:29</td>\n",
       "      <td>b'And so the robots spared humanity ... https:...</td>\n",
       "    </tr>\n",
       "    <tr>\n",
       "      <th>1</th>\n",
       "      <td>848988730585096192</td>\n",
       "      <td>2017-04-03 20:01:01</td>\n",
       "      <td>b\"@ForIn2020 @waltmossberg @mims @defcon_5 Exa...</td>\n",
       "    </tr>\n",
       "    <tr>\n",
       "      <th>2</th>\n",
       "      <td>848943072423497728</td>\n",
       "      <td>2017-04-03 16:59:35</td>\n",
       "      <td>b'@waltmossberg @mims @defcon_5 Et tu, Walt?'</td>\n",
       "    </tr>\n",
       "    <tr>\n",
       "      <th>3</th>\n",
       "      <td>848935705057280001</td>\n",
       "      <td>2017-04-03 16:30:19</td>\n",
       "      <td>b'Stormy weather in Shortville ...'</td>\n",
       "    </tr>\n",
       "    <tr>\n",
       "      <th>4</th>\n",
       "      <td>848416049573658624</td>\n",
       "      <td>2017-04-02 06:05:23</td>\n",
       "      <td>b\"@DaveLeeBBC @verge Coal is dying due to nat ...</td>\n",
       "    </tr>\n",
       "  </tbody>\n",
       "</table>\n",
       "</div>"
      ],
      "text/plain": [
       "                   id           created_at  \\\n",
       "0  849636868052275200  2017-04-05 14:56:29   \n",
       "1  848988730585096192  2017-04-03 20:01:01   \n",
       "2  848943072423497728  2017-04-03 16:59:35   \n",
       "3  848935705057280001  2017-04-03 16:30:19   \n",
       "4  848416049573658624  2017-04-02 06:05:23   \n",
       "\n",
       "                                                text  \n",
       "0  b'And so the robots spared humanity ... https:...  \n",
       "1  b\"@ForIn2020 @waltmossberg @mims @defcon_5 Exa...  \n",
       "2      b'@waltmossberg @mims @defcon_5 Et tu, Walt?'  \n",
       "3                b'Stormy weather in Shortville ...'  \n",
       "4  b\"@DaveLeeBBC @verge Coal is dying due to nat ...  "
      ]
     },
     "execution_count": 3,
     "metadata": {},
     "output_type": "execute_result"
    }
   ],
   "source": [
    "df.head()"
   ]
  },
  {
   "cell_type": "code",
   "execution_count": 4,
   "id": "107d9d1c",
   "metadata": {},
   "outputs": [],
   "source": [
    "# Lấy tất cả dòng tweets & nối thành 1 chuỗi\n",
    "tweets = \" \".join([s for s in df['text']])"
   ]
  },
  {
   "cell_type": "code",
   "execution_count": 5,
   "id": "023b3fdf",
   "metadata": {},
   "outputs": [],
   "source": [
    "# Tạo cấu trúc dạng từ điển chứa số lượng của mỗi từ trong tập tweets\n",
    "\n",
    "word_counts = {}\n",
    "\n",
    "# Xét từng từ một trong chuỗi tweets:\n",
    "for w in tweets.split():\n",
    "    # nếu từ w chưa có trong từ điển thì bổ sung w vào từ điển & khởi tạo số lượng = 1\n",
    "    if w not in word_counts: \n",
    "        word_counts[w] = 1\n",
    "    # ngược lại, nếu từ w đã có trong từ điển thì tăng số lượng thêm 1\n",
    "    else:\n",
    "        word_counts[w] += 1"
   ]
  },
  {
   "cell_type": "code",
   "execution_count": 6,
   "id": "c1c6de8d",
   "metadata": {},
   "outputs": [],
   "source": [
    "# Để lấy top từ xuất hiện nhiều nhất, một cách giải quyết là sắp xếp từ điển theo thứ tự giảm dần của <giá trị>\n",
    "# sau đó lấy ra n từ đầu tiên\n",
    "\n",
    "sorted_word_counts = sorted(word_counts.items(), key = lambda x : x[1], reverse=True)"
   ]
  },
  {
   "cell_type": "code",
   "execution_count": 7,
   "id": "50b3572b",
   "metadata": {},
   "outputs": [
    {
     "name": "stdout",
     "output_type": "stream",
     "text": [
      "Top 50 từ xuất hiện nhiều nhất:\n",
      "['the', 'to', 'of', 'a', 'in', 'is', 'for', 'on', 'and', \"b'RT\", 'be', 'at', 'Tesla', 'that', 'will', 'Model', 'I', 'by', 'but', 'it', '&amp;', 'with', 'are', 'from', 'this', 'S', 'we', 'was', 'as', 'not', 'like', 'about', 'you', '@SpaceX:', 'an', 'launch', 'rocket', 'just', 'all', 'b\"RT', 'have', 'Falcon', 'my', '@TeslaMotors:', 'so', 'has', 'or', 'more', 'car', 'do']\n"
     ]
    }
   ],
   "source": [
    "n_top_words = 50\n",
    "\n",
    "top_words = [w for w,c in sorted_word_counts[:n_top_words]]\n",
    "\n",
    "print(\"Top %d từ xuất hiện nhiều nhất:\" % n_top_words)\n",
    "print(top_words)"
   ]
  },
  {
   "cell_type": "code",
   "execution_count": 8,
   "id": "c7d660b1",
   "metadata": {},
   "outputs": [],
   "source": [
    "# Liệt kê n tài khoản được nhắc đến nhiều nhất\n",
    "\n",
    "# Tạo cấu trúc dạng từ điển chứa số lần xuất hiện của mỗi tài khoản trong các tweets\n",
    "\n",
    "account_counts = {}\n",
    "\n",
    "# Xét từng từ một trong chuỗi tweets:\n",
    "for w in tweets.split():\n",
    "    if \"@\" in w:\n",
    "        if w not in account_counts: \n",
    "            account_counts[w] = 1\n",
    "        else:\n",
    "            account_counts[w] += 1"
   ]
  },
  {
   "cell_type": "code",
   "execution_count": 9,
   "id": "235d2d11",
   "metadata": {},
   "outputs": [],
   "source": [
    "# Sắp xếp tập từ điển theo thứ tự giảm dần của giá trị\n",
    "\n",
    "sorted_account_counts = sorted(account_counts.items(), key = lambda x : x[1], reverse=True)"
   ]
  },
  {
   "cell_type": "code",
   "execution_count": 10,
   "id": "6842117e",
   "metadata": {},
   "outputs": [
    {
     "name": "stdout",
     "output_type": "stream",
     "text": [
      "Top 20 tài khoản xuất hiện nhiều nhất:\n",
      "['@SpaceX:', '@TeslaMotors:', '@TeslaMotors', '@elonmusk', '@SpaceX', '@NASA', '@NASA:', \"b'@vicentes\", \"b'@ID_AA_Carmack\", \"b'@elonmusk\", '@WIRED:', '@FredericLambert', '@Space_Station', '@FortuneMagazine', '@teslamotors', '@', '@OpenAI:', \"b'@MacTechGenius\", '@TheOnion:', \"b'@FredericLambert\"]\n"
     ]
    }
   ],
   "source": [
    "n_top_account = 20\n",
    "\n",
    "top_accounts = [w for w,c in sorted_account_counts[:n_top_account]]\n",
    "\n",
    "print(\"Top %d tài khoản xuất hiện nhiều nhất:\" % n_top_account)\n",
    "print(top_accounts)"
   ]
  },
  {
   "cell_type": "code",
   "execution_count": 11,
   "id": "ca9cb8b1",
   "metadata": {},
   "outputs": [
    {
     "data": {
      "text/html": [
       "<div>\n",
       "<style scoped>\n",
       "    .dataframe tbody tr th:only-of-type {\n",
       "        vertical-align: middle;\n",
       "    }\n",
       "\n",
       "    .dataframe tbody tr th {\n",
       "        vertical-align: top;\n",
       "    }\n",
       "\n",
       "    .dataframe thead th {\n",
       "        text-align: right;\n",
       "    }\n",
       "</style>\n",
       "<table border=\"1\" class=\"dataframe\">\n",
       "  <thead>\n",
       "    <tr style=\"text-align: right;\">\n",
       "      <th></th>\n",
       "      <th>id</th>\n",
       "      <th>created_at</th>\n",
       "      <th>text</th>\n",
       "    </tr>\n",
       "  </thead>\n",
       "  <tbody>\n",
       "    <tr>\n",
       "      <th>0</th>\n",
       "      <td>849636868052275200</td>\n",
       "      <td>2017-04-05 14:56:29</td>\n",
       "      <td>b'And so the robots spared humanity ... https:...</td>\n",
       "    </tr>\n",
       "    <tr>\n",
       "      <th>1</th>\n",
       "      <td>848988730585096192</td>\n",
       "      <td>2017-04-03 20:01:01</td>\n",
       "      <td>b\"@ForIn2020 @waltmossberg @mims @defcon_5 Exa...</td>\n",
       "    </tr>\n",
       "    <tr>\n",
       "      <th>2</th>\n",
       "      <td>848943072423497728</td>\n",
       "      <td>2017-04-03 16:59:35</td>\n",
       "      <td>b'@waltmossberg @mims @defcon_5 Et tu, Walt?'</td>\n",
       "    </tr>\n",
       "    <tr>\n",
       "      <th>3</th>\n",
       "      <td>848935705057280001</td>\n",
       "      <td>2017-04-03 16:30:19</td>\n",
       "      <td>b'Stormy weather in Shortville ...'</td>\n",
       "    </tr>\n",
       "    <tr>\n",
       "      <th>4</th>\n",
       "      <td>848416049573658624</td>\n",
       "      <td>2017-04-02 06:05:23</td>\n",
       "      <td>b\"@DaveLeeBBC @verge Coal is dying due to nat ...</td>\n",
       "    </tr>\n",
       "  </tbody>\n",
       "</table>\n",
       "</div>"
      ],
      "text/plain": [
       "                   id           created_at  \\\n",
       "0  849636868052275200  2017-04-05 14:56:29   \n",
       "1  848988730585096192  2017-04-03 20:01:01   \n",
       "2  848943072423497728  2017-04-03 16:59:35   \n",
       "3  848935705057280001  2017-04-03 16:30:19   \n",
       "4  848416049573658624  2017-04-02 06:05:23   \n",
       "\n",
       "                                                text  \n",
       "0  b'And so the robots spared humanity ... https:...  \n",
       "1  b\"@ForIn2020 @waltmossberg @mims @defcon_5 Exa...  \n",
       "2      b'@waltmossberg @mims @defcon_5 Et tu, Walt?'  \n",
       "3                b'Stormy weather in Shortville ...'  \n",
       "4  b\"@DaveLeeBBC @verge Coal is dying due to nat ...  "
      ]
     },
     "execution_count": 11,
     "metadata": {},
     "output_type": "execute_result"
    }
   ],
   "source": [
    "# Tìm khoảng thời gian trong ngày (0-24 giờ) tác giả đăng bài nhiều nhất.\n",
    "\n",
    "df.head()"
   ]
  },
  {
   "cell_type": "code",
   "execution_count": 12,
   "id": "5869f6f8",
   "metadata": {},
   "outputs": [],
   "source": [
    "# Một cách giải quyết \"chân phương\": \n",
    "\n",
    "def getHour(s):\n",
    "    return s[11:13]"
   ]
  },
  {
   "cell_type": "code",
   "execution_count": 13,
   "id": "39829e3e",
   "metadata": {},
   "outputs": [],
   "source": [
    "# Tạo thêm 1 cột mới của dataframe đặt tên là 'created_hour' chứa giờ đăng bài\n",
    "\n",
    "df['created_hour'] = df['created_at'].apply(getHour)"
   ]
  },
  {
   "cell_type": "code",
   "execution_count": 14,
   "id": "b6bca9d1",
   "metadata": {},
   "outputs": [
    {
     "data": {
      "text/html": [
       "<div>\n",
       "<style scoped>\n",
       "    .dataframe tbody tr th:only-of-type {\n",
       "        vertical-align: middle;\n",
       "    }\n",
       "\n",
       "    .dataframe tbody tr th {\n",
       "        vertical-align: top;\n",
       "    }\n",
       "\n",
       "    .dataframe thead th {\n",
       "        text-align: right;\n",
       "    }\n",
       "</style>\n",
       "<table border=\"1\" class=\"dataframe\">\n",
       "  <thead>\n",
       "    <tr style=\"text-align: right;\">\n",
       "      <th></th>\n",
       "      <th>id</th>\n",
       "      <th>created_at</th>\n",
       "      <th>text</th>\n",
       "      <th>created_hour</th>\n",
       "    </tr>\n",
       "  </thead>\n",
       "  <tbody>\n",
       "    <tr>\n",
       "      <th>0</th>\n",
       "      <td>849636868052275200</td>\n",
       "      <td>2017-04-05 14:56:29</td>\n",
       "      <td>b'And so the robots spared humanity ... https:...</td>\n",
       "      <td>14</td>\n",
       "    </tr>\n",
       "    <tr>\n",
       "      <th>1</th>\n",
       "      <td>848988730585096192</td>\n",
       "      <td>2017-04-03 20:01:01</td>\n",
       "      <td>b\"@ForIn2020 @waltmossberg @mims @defcon_5 Exa...</td>\n",
       "      <td>20</td>\n",
       "    </tr>\n",
       "    <tr>\n",
       "      <th>2</th>\n",
       "      <td>848943072423497728</td>\n",
       "      <td>2017-04-03 16:59:35</td>\n",
       "      <td>b'@waltmossberg @mims @defcon_5 Et tu, Walt?'</td>\n",
       "      <td>16</td>\n",
       "    </tr>\n",
       "    <tr>\n",
       "      <th>3</th>\n",
       "      <td>848935705057280001</td>\n",
       "      <td>2017-04-03 16:30:19</td>\n",
       "      <td>b'Stormy weather in Shortville ...'</td>\n",
       "      <td>16</td>\n",
       "    </tr>\n",
       "    <tr>\n",
       "      <th>4</th>\n",
       "      <td>848416049573658624</td>\n",
       "      <td>2017-04-02 06:05:23</td>\n",
       "      <td>b\"@DaveLeeBBC @verge Coal is dying due to nat ...</td>\n",
       "      <td>06</td>\n",
       "    </tr>\n",
       "  </tbody>\n",
       "</table>\n",
       "</div>"
      ],
      "text/plain": [
       "                   id           created_at  \\\n",
       "0  849636868052275200  2017-04-05 14:56:29   \n",
       "1  848988730585096192  2017-04-03 20:01:01   \n",
       "2  848943072423497728  2017-04-03 16:59:35   \n",
       "3  848935705057280001  2017-04-03 16:30:19   \n",
       "4  848416049573658624  2017-04-02 06:05:23   \n",
       "\n",
       "                                                text created_hour  \n",
       "0  b'And so the robots spared humanity ... https:...           14  \n",
       "1  b\"@ForIn2020 @waltmossberg @mims @defcon_5 Exa...           20  \n",
       "2      b'@waltmossberg @mims @defcon_5 Et tu, Walt?'           16  \n",
       "3                b'Stormy weather in Shortville ...'           16  \n",
       "4  b\"@DaveLeeBBC @verge Coal is dying due to nat ...           06  "
      ]
     },
     "execution_count": 14,
     "metadata": {},
     "output_type": "execute_result"
    }
   ],
   "source": [
    "df.head()"
   ]
  },
  {
   "cell_type": "code",
   "execution_count": 15,
   "id": "b831d001",
   "metadata": {},
   "outputs": [],
   "source": [
    "# Tạo từ điển đếm số lượng bài tweets theo khung giờ\n",
    "\n",
    "post_hours = df['created_hour']"
   ]
  },
  {
   "cell_type": "code",
   "execution_count": 16,
   "id": "91b55c3a",
   "metadata": {},
   "outputs": [],
   "source": [
    "post_hour_counts = {}\n",
    "\n",
    "for h in post_hours:\n",
    "    if h not in post_hour_counts: \n",
    "        post_hour_counts[h] = 1\n",
    "    # ngược lại, nếu từ w đã có trong từ điển thì tăng số lượng thêm 1\n",
    "    else:\n",
    "        post_hour_counts[h] += 1"
   ]
  },
  {
   "cell_type": "code",
   "execution_count": 17,
   "id": "fb697354",
   "metadata": {},
   "outputs": [],
   "source": [
    "sorted_post_hours = sorted(post_hour_counts.items(), key=lambda x:x[1], reverse=True)"
   ]
  },
  {
   "cell_type": "code",
   "execution_count": 18,
   "id": "17c18830",
   "metadata": {},
   "outputs": [
    {
     "data": {
      "text/plain": [
       "[('16', 198),\n",
       " ('21', 192),\n",
       " ('17', 190),\n",
       " ('15', 190),\n",
       " ('01', 183),\n",
       " ('20', 176),\n",
       " ('22', 168),\n",
       " ('18', 162),\n",
       " ('19', 154),\n",
       " ('00', 144),\n",
       " ('23', 141),\n",
       " ('02', 119),\n",
       " ('14', 114),\n",
       " ('03', 104),\n",
       " ('04', 98),\n",
       " ('07', 94),\n",
       " ('06', 85),\n",
       " ('08', 82),\n",
       " ('05', 81),\n",
       " ('09', 55),\n",
       " ('10', 34),\n",
       " ('13', 23),\n",
       " ('12', 17),\n",
       " ('11', 15)]"
      ]
     },
     "execution_count": 18,
     "metadata": {},
     "output_type": "execute_result"
    }
   ],
   "source": [
    "sorted_post_hours"
   ]
  },
  {
   "cell_type": "code",
   "execution_count": null,
   "id": "44609492",
   "metadata": {},
   "outputs": [],
   "source": []
  }
 ],
 "metadata": {
  "kernelspec": {
   "display_name": "Python 3 (ipykernel)",
   "language": "python",
   "name": "python3"
  },
  "language_info": {
   "codemirror_mode": {
    "name": "ipython",
    "version": 3
   },
   "file_extension": ".py",
   "mimetype": "text/x-python",
   "name": "python",
   "nbconvert_exporter": "python",
   "pygments_lexer": "ipython3",
   "version": "3.9.7"
  }
 },
 "nbformat": 4,
 "nbformat_minor": 5
}
