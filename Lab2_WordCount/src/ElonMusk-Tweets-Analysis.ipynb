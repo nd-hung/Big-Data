{
 "cells": [
  {
   "cell_type": "markdown",
   "id": "981189e5",
   "metadata": {},
   "source": [
    "## Xử lý dữ liệu mạng xã hội Twitter\n",
    "Cho file .csv chứa các dòng tweets thu thập được của Elon Musk, hãy thực hiện các xử lý sau bằng cả hai phương pháp: cách thông thường và Big Data (dùng mô hình MapReduce):\n",
    "- Liệt kê n từ được nhắc nhiều nhất\n",
    "- Liệt kê n tài khoản được nhắc nhiều nhất\n",
    "- Tìm khoảng thời gian trong ngày (0-23 giờ) tác giả đăng bài nhiều nhất"
   ]
  },
  {
   "cell_type": "code",
   "execution_count": 3,
   "id": "93582c6b",
   "metadata": {},
   "outputs": [],
   "source": [
    "# Khai báo thư viện pandas\n",
    "import pandas as pd"
   ]
  },
  {
   "cell_type": "code",
   "execution_count": 5,
   "outputs": [],
   "source": [
    "# Mở file .csv & nạp dữ liệu vào dataframe:\n",
    "df = pd.read_csv('../data/elonmusk_tweets.csv')"
   ],
   "metadata": {
    "collapsed": false,
    "pycharm": {
     "name": "#%%\n"
    }
   }
  },
  {
   "cell_type": "code",
   "execution_count": 6,
   "id": "69d6199b",
   "metadata": {},
   "outputs": [
    {
     "data": {
      "text/plain": "                   id           created_at  \\\n0  849636868052275200  2017-04-05 14:56:29   \n1  848988730585096192  2017-04-03 20:01:01   \n2  848943072423497728  2017-04-03 16:59:35   \n3  848935705057280001  2017-04-03 16:30:19   \n4  848416049573658624  2017-04-02 06:05:23   \n5  848415731502923777  2017-04-02 06:04:07   \n6  848415356263702528  2017-04-02 06:02:38   \n7  848398971139629057  2017-04-02 04:57:31   \n8  848244577521647616  2017-04-01 18:44:01   \n9  848243350993895424  2017-04-01 18:39:09   \n\n                                                text  \n0  b'And so the robots spared humanity ... https:...  \n1  b\"@ForIn2020 @waltmossberg @mims @defcon_5 Exa...  \n2      b'@waltmossberg @mims @defcon_5 Et tu, Walt?'  \n3                b'Stormy weather in Shortville ...'  \n4  b\"@DaveLeeBBC @verge Coal is dying due to nat ...  \n5  b\"@Lexxxzis It's just a helicopter in helicopt...  \n6                          b\"@verge It won't matter\"  \n7                      b'@SuperCoolCube Pretty good'  \n8  b\"Why did we waste so much time developing sil...  \n9  b'Technology breakthrough: turns out chemtrail...  ",
      "text/html": "<div>\n<style scoped>\n    .dataframe tbody tr th:only-of-type {\n        vertical-align: middle;\n    }\n\n    .dataframe tbody tr th {\n        vertical-align: top;\n    }\n\n    .dataframe thead th {\n        text-align: right;\n    }\n</style>\n<table border=\"1\" class=\"dataframe\">\n  <thead>\n    <tr style=\"text-align: right;\">\n      <th></th>\n      <th>id</th>\n      <th>created_at</th>\n      <th>text</th>\n    </tr>\n  </thead>\n  <tbody>\n    <tr>\n      <th>0</th>\n      <td>849636868052275200</td>\n      <td>2017-04-05 14:56:29</td>\n      <td>b'And so the robots spared humanity ... https:...</td>\n    </tr>\n    <tr>\n      <th>1</th>\n      <td>848988730585096192</td>\n      <td>2017-04-03 20:01:01</td>\n      <td>b\"@ForIn2020 @waltmossberg @mims @defcon_5 Exa...</td>\n    </tr>\n    <tr>\n      <th>2</th>\n      <td>848943072423497728</td>\n      <td>2017-04-03 16:59:35</td>\n      <td>b'@waltmossberg @mims @defcon_5 Et tu, Walt?'</td>\n    </tr>\n    <tr>\n      <th>3</th>\n      <td>848935705057280001</td>\n      <td>2017-04-03 16:30:19</td>\n      <td>b'Stormy weather in Shortville ...'</td>\n    </tr>\n    <tr>\n      <th>4</th>\n      <td>848416049573658624</td>\n      <td>2017-04-02 06:05:23</td>\n      <td>b\"@DaveLeeBBC @verge Coal is dying due to nat ...</td>\n    </tr>\n    <tr>\n      <th>5</th>\n      <td>848415731502923777</td>\n      <td>2017-04-02 06:04:07</td>\n      <td>b\"@Lexxxzis It's just a helicopter in helicopt...</td>\n    </tr>\n    <tr>\n      <th>6</th>\n      <td>848415356263702528</td>\n      <td>2017-04-02 06:02:38</td>\n      <td>b\"@verge It won't matter\"</td>\n    </tr>\n    <tr>\n      <th>7</th>\n      <td>848398971139629057</td>\n      <td>2017-04-02 04:57:31</td>\n      <td>b'@SuperCoolCube Pretty good'</td>\n    </tr>\n    <tr>\n      <th>8</th>\n      <td>848244577521647616</td>\n      <td>2017-04-01 18:44:01</td>\n      <td>b\"Why did we waste so much time developing sil...</td>\n    </tr>\n    <tr>\n      <th>9</th>\n      <td>848243350993895424</td>\n      <td>2017-04-01 18:39:09</td>\n      <td>b'Technology breakthrough: turns out chemtrail...</td>\n    </tr>\n  </tbody>\n</table>\n</div>"
     },
     "execution_count": 6,
     "metadata": {},
     "output_type": "execute_result"
    }
   ],
   "source": [
    "# Xem 10 dòng dữ liệu đầu tiên\n",
    "df.head(10)"
   ]
  },
  {
   "cell_type": "code",
   "execution_count": null,
   "id": "107d9d1c",
   "metadata": {},
   "outputs": [],
   "source": [
    "# Lấy tất cả dòng tweets & nối thành 1 chuỗi\n",
    "tweets = \" \".join([s for s in df['text']])"
   ]
  },
  {
   "cell_type": "code",
   "execution_count": null,
   "id": "023b3fdf",
   "metadata": {},
   "outputs": [],
   "source": [
    "# Tạo cấu trúc dạng từ điển chứa số lượng của mỗi từ trong tập tweets\n",
    "\n",
    "word_counts = {}\n",
    "\n",
    "# Xét từng từ một trong chuỗi tweets:\n",
    "for w in tweets.split():\n",
    "    # nếu từ w chưa có trong từ điển thì bổ sung w vào từ điển & khởi tạo số lượng = 1\n",
    "    if w not in word_counts: \n",
    "        word_counts[w] = 1\n",
    "    # ngược lại, nếu từ w đã có trong từ điển thì tăng số lượng thêm 1\n",
    "    else:\n",
    "        word_counts[w] += 1"
   ]
  },
  {
   "cell_type": "code",
   "execution_count": null,
   "id": "c1c6de8d",
   "metadata": {},
   "outputs": [],
   "source": [
    "# Để lấy top từ xuất hiện nhiều nhất, một cách giải quyết là sắp xếp từ điển theo thứ tự giảm dần của <giá trị>\n",
    "# sau đó lấy ra n từ đầu tiên\n",
    "\n",
    "sorted_word_counts = sorted(word_counts.items(), key = lambda x : x[1], reverse=True)"
   ]
  },
  {
   "cell_type": "code",
   "execution_count": null,
   "id": "50b3572b",
   "metadata": {},
   "outputs": [],
   "source": [
    "n_top_words = 50\n",
    "\n",
    "top_words = [w for w,c in sorted_word_counts[:n_top_words]]\n",
    "\n",
    "print(\"Top %d từ xuất hiện nhiều nhất:\" % n_top_words)\n",
    "print(top_words)"
   ]
  },
  {
   "cell_type": "code",
   "execution_count": null,
   "id": "c7d660b1",
   "metadata": {},
   "outputs": [],
   "source": [
    "# Liệt kê n tài khoản được nhắc đến nhiều nhất\n",
    "\n",
    "# Tạo cấu trúc dạng từ điển chứa số lần xuất hiện của mỗi tài khoản trong các tweets\n",
    "\n",
    "account_counts = {}\n",
    "\n",
    "# Xét từng từ một trong chuỗi tweets:\n",
    "for w in tweets.split():\n",
    "    if \"@\" in w:\n",
    "        if w not in account_counts: \n",
    "            account_counts[w] = 1\n",
    "        else:\n",
    "            account_counts[w] += 1"
   ]
  },
  {
   "cell_type": "code",
   "execution_count": null,
   "id": "235d2d11",
   "metadata": {},
   "outputs": [],
   "source": [
    "# Sắp xếp tập từ điển theo thứ tự giảm dần của giá trị\n",
    "\n",
    "sorted_account_counts = sorted(account_counts.items(), key = lambda x : x[1], reverse=True)"
   ]
  },
  {
   "cell_type": "code",
   "execution_count": null,
   "id": "6842117e",
   "metadata": {},
   "outputs": [],
   "source": [
    "n_top_account = 20\n",
    "\n",
    "top_accounts = [w for w,c in sorted_account_counts[:n_top_account]]\n",
    "\n",
    "print(\"Top %d tài khoản xuất hiện nhiều nhất:\" % n_top_account)\n",
    "print(top_accounts)"
   ]
  },
  {
   "cell_type": "code",
   "execution_count": null,
   "id": "ca9cb8b1",
   "metadata": {},
   "outputs": [],
   "source": [
    "# Tìm khoảng thời gian trong ngày (0-24 giờ) tác giả đăng bài nhiều nhất.\n",
    "\n",
    "df.head()"
   ]
  },
  {
   "cell_type": "code",
   "execution_count": null,
   "id": "5869f6f8",
   "metadata": {},
   "outputs": [],
   "source": [
    "# Một cách giải quyết \"chân phương\": \n",
    "\n",
    "def getHour(s):\n",
    "    return s[11:13]"
   ]
  },
  {
   "cell_type": "code",
   "execution_count": null,
   "id": "39829e3e",
   "metadata": {},
   "outputs": [],
   "source": [
    "# Tạo thêm 1 cột mới của dataframe đặt tên là 'created_hour' chứa giờ đăng bài\n",
    "\n",
    "df['created_hour'] = df['created_at'].apply(getHour)"
   ]
  },
  {
   "cell_type": "code",
   "execution_count": null,
   "id": "b6bca9d1",
   "metadata": {},
   "outputs": [],
   "source": [
    "df.head()"
   ]
  },
  {
   "cell_type": "code",
   "execution_count": null,
   "id": "b831d001",
   "metadata": {},
   "outputs": [],
   "source": [
    "# Tạo từ điển đếm số lượng bài tweets theo khung giờ\n",
    "\n",
    "post_hours = df['created_hour']"
   ]
  },
  {
   "cell_type": "code",
   "execution_count": null,
   "id": "91b55c3a",
   "metadata": {},
   "outputs": [],
   "source": [
    "post_hour_counts = {}\n",
    "\n",
    "for h in post_hours:\n",
    "    if h not in post_hour_counts: \n",
    "        post_hour_counts[h] = 1\n",
    "    # ngược lại, nếu từ w đã có trong từ điển thì tăng số lượng thêm 1\n",
    "    else:\n",
    "        post_hour_counts[h] += 1"
   ]
  },
  {
   "cell_type": "code",
   "execution_count": null,
   "id": "fb697354",
   "metadata": {},
   "outputs": [],
   "source": [
    "sorted_post_hours = sorted(post_hour_counts.items(), key=lambda x:x[1], reverse=True)"
   ]
  },
  {
   "cell_type": "code",
   "execution_count": null,
   "id": "17c18830",
   "metadata": {},
   "outputs": [],
   "source": [
    "sorted_post_hours"
   ]
  },
  {
   "cell_type": "code",
   "execution_count": null,
   "id": "44609492",
   "metadata": {},
   "outputs": [],
   "source": []
  }
 ],
 "metadata": {
  "kernelspec": {
   "name": "pycharm-9abf3182",
   "language": "python",
   "display_name": "PyCharm (Big-Data)"
  },
  "language_info": {
   "codemirror_mode": {
    "name": "ipython",
    "version": 3
   },
   "file_extension": ".py",
   "mimetype": "text/x-python",
   "name": "python",
   "nbconvert_exporter": "python",
   "pygments_lexer": "ipython3",
   "version": "3.9.7"
  }
 },
 "nbformat": 4,
 "nbformat_minor": 5
}